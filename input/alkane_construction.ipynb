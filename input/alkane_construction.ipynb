{
 "cells": [
  {
   "cell_type": "code",
   "execution_count": 6,
   "id": "07f314ff",
   "metadata": {},
   "outputs": [],
   "source": [
    "def write_alkane(n_carbon, filename):\n",
    "    outf = open(filename, \"w\")\n",
    "    \n",
    "    # write first line (# atoms, charge, # alpha e, # beta e)\n",
    "    num_atoms = 3 * n_carbon + 2\n",
    "    num_alpha = (4 * n_carbon + (2 * n_carbon + 2)) / 2\n",
    "    line = str(num_atoms) + ' ' +  str(0) + ' ' + str(int(num_alpha)) + ' ' + str(int(num_alpha))\n",
    "    outf.write(line + '\\n')\n",
    "    \n",
    "    # add all coordinates into a list to refer to later when building H's\n",
    "    carbon_coords = []\n",
    "    for i in range(n_carbon):\n",
    "        if i == 0:\n",
    "            carbon_coords.append([0.0, 0.0, 0.0])\n",
    "        else:\n",
    "            x = carbon_coords[i - 1][0]\n",
    "            if i % 2 == 0:\n",
    "                carbon_coords.append([round(x + 1.2576, 4), 0.0, 0.0])\n",
    "            else:\n",
    "                carbon_coords.append([round(x + 1.2576, 4), 0.8888, 0.0])\n",
    "    \n",
    "    # write carbon coordinates into output file\n",
    "    for i in range(n_carbon):\n",
    "        coords = carbon_coords[i]\n",
    "        s = str(6) + ' ' + str(coords[0]) + ' ' + str(coords[1]) + ' ' + str(coords[2])\n",
    "        outf.write(s)\n",
    "        outf.write('\\n')\n",
    "    \n",
    "    # write hydrogen coordinates into output file\n",
    "    for i in range(n_carbon):\n",
    "        # TODO: ADD TWO H ATOMS AT THE ENDS\n",
    "        if i == 0:\n",
    "            s = str(1) + ' ' + str(-0.890) + \" \" + str(0.6291) + \" \" + str(0.0)\n",
    "            outf.write(s)\n",
    "            outf.write('\\n')\n",
    "            s = str(1) + ' ' + str(0.0) + \" \" + str(-0.6291) + \" \" + str(0.890)\n",
    "            outf.write(s)\n",
    "            outf.write('\\n')\n",
    "            s = str(1) + ' ' + str(0.0) + \" \" + str(-0.6291) + \" \" + str(-0.890)\n",
    "            outf.write(s)\n",
    "            outf.write('\\n')\n",
    "        elif i == (n_carbon - 1):\n",
    "            last_coords = carbon_coords[i]\n",
    "            s = str(1) + ' ' + str(round(last_coords[0] + 0.890, 4)) + ' ' + str(last_coords[1] + 0.6291) + ' ' + str(0.0)\n",
    "            outf.write(s)\n",
    "            outf.write('\\n')\n",
    "            s = str(1) + ' ' + str(last_coords[0]) + ' ' + str(last_coords[1] - 0.6291) + ' ' + str(0.890)\n",
    "            outf.write(s)\n",
    "            outf.write('\\n')\n",
    "            s = str(1) + ' ' + str(last_coords[0]) + ' ' + str(last_coords[1] - 0.6291) + ' ' + str(-0.890)\n",
    "            outf.write(s)\n",
    "        else:\n",
    "            last_coords = carbon_coords[i]\n",
    "            if i % 2 == 0:\n",
    "                s1 = str(1) + ' ' + str(last_coords[0]) + ' ' + str(last_coords[1] - 0.6291) + ' ' + str(0.890)\n",
    "                s2 = str(1) + ' ' + str(last_coords[0]) + ' ' + str(last_coords[1] - 0.6291) + ' ' + str(-0.890)\n",
    "                outf.write(s1)\n",
    "                outf.write('\\n')\n",
    "                outf.write(s2)\n",
    "                outf.write('\\n')\n",
    "            else:\n",
    "                s1 = str(1) + ' ' + str(last_coords[0]) + ' ' + str(last_coords[1] + 0.6291) + ' ' + str(0.890)\n",
    "                s2 = str(1) + ' ' + str(last_coords[0]) + ' ' + str(last_coords[1] + 0.6291) + ' ' + str(-0.890)\n",
    "                outf.write(s1)\n",
    "                outf.write('\\n')\n",
    "                outf.write(s2)\n",
    "                outf.write('\\n')"
   ]
  },
  {
   "cell_type": "code",
   "execution_count": 7,
   "id": "f4e97823",
   "metadata": {},
   "outputs": [],
   "source": [
    "write_alkane(200, 'C200H402.txt')"
   ]
  },
  {
   "cell_type": "code",
   "execution_count": null,
   "id": "bc0a9c38",
   "metadata": {},
   "outputs": [],
   "source": []
  }
 ],
 "metadata": {
  "kernelspec": {
   "display_name": "Python 3",
   "language": "python",
   "name": "python3"
  },
  "language_info": {
   "codemirror_mode": {
    "name": "ipython",
    "version": 3
   },
   "file_extension": ".py",
   "mimetype": "text/x-python",
   "name": "python",
   "nbconvert_exporter": "python",
   "pygments_lexer": "ipython3",
   "version": "3.7.7"
  }
 },
 "nbformat": 4,
 "nbformat_minor": 5
}
